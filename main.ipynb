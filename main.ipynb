{
 "cells": [
  {
   "cell_type": "code",
   "execution_count": 18,
   "id": "bcaf08f5",
   "metadata": {},
   "outputs": [],
   "source": [
    "from urllib.request import urlopen, Request\n",
    "from bs4 import BeautifulSoup"
   ]
  },
  {
   "cell_type": "code",
   "execution_count": 19,
   "id": "7d90ef81",
   "metadata": {},
   "outputs": [],
   "source": [
    "finviz_url = 'https://finviz.com/quote.ashx?t='\n",
    "tickers = ['AMZN', 'AMD', 'FB']\n"
   ]
  },
  {
   "cell_type": "code",
   "execution_count": 20,
   "id": "25f83694",
   "metadata": {},
   "outputs": [],
   "source": [
    "news_tables = {}\n",
    "for ticker in tickers:\n",
    "  url = finviz_url + ticker\n",
    "  req = Request(url=url, headers={'user-agent': 'my-app'})\n",
    "  response = urlopen(req)\n",
    "  # print(response)\n",
    "  html = BeautifulSoup(response, 'html')\n",
    "  news_table = html.find(id='news-table')\n",
    "  news_tables[ticker] = news_table\n",
    "  \n",
    "\n",
    "\n",
    "# print(news_tables)"
   ]
  },
  {
   "cell_type": "code",
   "execution_count": 21,
   "id": "662b6790",
   "metadata": {},
   "outputs": [
    {
     "name": "stdout",
     "output_type": "stream",
     "text": [
      "[['AMZN', '', '', \"Amazon.com, Inc. (AMZN)'s CEO Says Tariffs Haven't Hurt Company, Says Jim Cramer\"], ['AMZN', '', '', 'Is Rivian Stock a Buy Now?'], ['AMZN', '', '', '2 Artificial Intelligence (AI) Stocks With High Conviction'], ['AMZN', '', '', '5 Brilliant Growth Stocks to Buy Now and Hold for the Long Term'], ['AMZN', '', '', 'MarketBeat Week in Review - 07/21 - 07/25'], ['AMZN', '', '', 'Trumps big beautiful bill to boost big techs cash bonanza, AI dominance: MS'], ['AMZN', '', '', 'Why Major Retailers Are Secretly Planning Their Own Stablecoins (and What It Means for Investors)'], ['AMZN', '', '', 'The Ultimate Growth Stock to Buy With $1,000 Right Now'], ['AMZN', '', '', 'Best Stock to Buy Right Now: Amazon vs. Opendoor Technologies'], ['AMZN', '', '', '5 No-Brainer Warren Buffett Stocks to Buy Right Now'], ['AMZN', '', '', 'Now Is the Time to Sell Amazon'], ['AMZN', '', '', 'Tesla Clings to the Trillion-Dollar Club. How to Stay In? AI.'], ['AMZN', '', '', 'Mag 7 Earnings Loom: What Can Investors Expect?'], ['AMZN', '', '', 'Mag 7 earnings, Fed meeting, PCE, jobs report: What to Watch'], ['AMZN', '', '', 'Index Ventures Jahanvi Sardana shares the truth about TAM and what founders should focus on instead'], ['AMZN', '', '', 'Stock Market Week Ahead: The Fed, July Jobs, Tariff Deadline + Mag 7 Earnings'], ['AMZN', '', '', '3 Cloud Build-Out Stocks Behind the AI Infrastructure Boom'], ['AMZN', '', '', \"The S&P 500 Caps Off 'Perfect' Week With More Big Tech Earnings On Tap\"], ['AMZN', '', '', 'Why Bargain Hunters Are Flocking to Bin Stores'], ['AMZN', '', '', \"Why GE's power spin-off is one of the biggest winners from the AI boom\"], ['AMZN', '', '', 'Is Rigetti the Next NVIDIA, and Should You Buy the Stock?'], ['AMZN', '', '', 'UiPath vs. AppLovin: Which AI-Driven Tech Stock is Purchase-Worthy?'], ['AMZN', '', '', 'Should Meta Platforms Stock Be in Your Portfolio Pre-Q2 Earnings?'], ['AMZN', '', '', 'The Latest Meme Craze Is Flashing a Warning to Wall Street'], ['AMZN', '', '', 'Stocks Head for a Meme Reversion'], ['AMZN', '', '', 'Apple Faces Existential Threat If It Fails To Act On GenAI'], ['AMZN', '', '', 'CoreWeave vs. Amazon: Which AI Infra Stock Has More Upside Right Now?'], ['AMZN', '', '', 'Wall Street Is Betting on Amazon Stock Ahead of Q2 Earnings. Should You?'], ['AMZN', '', '', 'Durable Goods Orders Contract in June'], ['AMZN', '', '', 'Pre-Markets Moderate in the Green for Another Up-Week'], ['AMZN', '', '', 'Apple, Amazon, Meta Highlight Earnings Calendar; S&P 500 Titan Sets Up Ahead Of Results'], ['AMZN', '', '', 'Best Momentum Stocks to Buy for July 25th'], ['AMZN', '', '', \"Here's Why UPS Stock Is a Buy Before July 29\"], ['AMZN', '', '', 'Visa, CVS, and 4 More Oversold Stocks Worth a Look Before Earnings'], ['AMZN', '', '', 'With Hectic Trading in Krispy Kreme and OpenDoor, Stocks Head for a Meme Reversion'], ['AMZN', '', '', \"Cadence Set to Report Q2 Earnings: What's in the Offing?\"], ['AMZN', '', '', '4 Stocks to Boost Your Portfolio as Nasdaq Continues to Rally'], ['AMZN', '', '', 'Looking for Earnings Beat? Buy These 5 Top-Ranked Stocks'], ['AMZN', '', '', \"Google bull's top stock picks are Alphabet & these 2 names\"], ['AMZN', '', '', 'Amazon Scraps 300 Million New Irish Plant in Blow to State'], ['AMZN', '', '', 'Amazon UK to battle $5.4bn in lawsuits from retailers and consumers'], ['AMZN', '', '', 'DOGE Price Prediction: Where Dogecoin Could Be by 2025, 2026, and 2030'], ['AMZN', '', '', 'Should You Forget Palantir and Buy These 3 Tech Stocks Instead?'], ['AMZN', '', '', '4 Artificial Intelligence (AI) Stocks That Could Help Make You a Fortune'], ['AMZN', '', '', 'AI Developers Are Going for $100 Million. Welcome to the Next AI Race.'], ['AMZN', '', '', '4 No-Brainer Artificial Intelligence (AI) Stocks to Buy Right Now'], ['AMZN', '', '', 'Morning Bid: Markets calm after giddy week of trade deals'], ['AMZN', '', '', 'Amazon (AMZN) Eyes New Multibillion-Dollar Investment in Anthropic'], ['AMZN', '', '', 'Tech firms to showcase AI innovations in a China under US sanctions'], ['AMZN', '', '', 'Stock market today: Dow, S&P 500, Nasdaq futures trade flat as Trump downplays Powell tensions'], ['AMZN', '', '', 'Stock market today: Dow, S&P 500, Nasdaq futures climb as Trump downplays Powell tensions'], ['AMZN', '', '', 'Markets, Data, Earnings All Mixed'], ['AMZN', '', '', 'FCC Approves Paramounts $8 Billion Merger With Skydance'], ['AMZN', '', '', 'UK Competition Appeal Tribunal Certifies Class of Amazon Customers in 1.3B+ Antitrust Buy Box Case'], ['AMZN', '', '', 'Amazon (AMZN) Rises Higher Than Market: Key Facts'], ['AMZN', '', '', 'JBG SMITH Declares a Quarterly Common Dividend of $0.175 Per Share'], ['AMZN', '', '', \"From Euphoria to Entrepreneurship: Sydney Sweeney's Lingerie Brand Gets Bezos Boost\"], ['AMZN', '', '', 'Alaska Airlines gains cargo momentum from Hawaiian integration'], ['AMZN', '', '', 'Spotify Stock Rises After Upgrade. The Case for Buying Before Earnings.'], ['AMZN', '', '', 'Amazon acquiring maker of wearable wrist device that records what it hears'], ['AMZN', '', '', 'Walmart Stock Has Been Stuck Since April. Why J.P. Morgan Sees 35% Upside.'], ['AMZN', '', '', 'CHEF iQ Expands Smart Kitchen Suite with the Debut of iQ MiniOven'], ['AMZN', '', '', 'Analysts unveil bold Amazon stock price target before earnings'], ['AMZN', '', '', 'AI Investment Is Already Huge. Google, Trump Show Much More Is Coming.'], ['AMZN', '', '', \"How's MELI Using Argentina's Economic Recovery to Fuel its Growth?\"], ['AMZN', '', '', 'The Family Reunion Unveils Fifth-Year Schedule of Events'], ['AMZN', '', '', \"Walmart bets on AI 'super agents' to boost e-commerce growth\"], ['AMZN', '', '', \"Jeff Bezos Sells More Amazon Stock. He Isn't Finished.\"], ['AMZN', '', '', 'Interview Kickstart Machine Learning Course 2025 Update - FAANG ML Engineer Course with Projects'], ['AMZN', '', '', 'Amazon introduces a more affordable color screen Kindle'], ['AMZN', '', '', 'Spotify Set to Report Q2 Earnings: Buy, Sell or Hold the Stock?'], ['AMZN', '', '', 'Amazon Gave Prime Day Shoppers More Time to Browse. Many Went to Walmart'], ['AMZN', '', '', \"Tesla's stock plunges, dragging down Big Tech ETF\"], ['AMZN', '', '', 'Amazon faces UK lawsuits worth up to $5.4 billion from retailers, consumers'], ['AMZN', '', '', 'Top Drone Tech Stocks to Add to Your Portfolio for Strong Returns'], ['AMZN', '', '', 'BC-Most Active Stocks'], ['AMZN', '', '', 'Intel beats shareholder lawsuit over $32 billion stock plunge'], ['AMZN', '', '', 'Artificial Intelligence Application Programming Interface (AI API) Global Market Research Report 2025 | Amazon, Google, and Microsoft Dominate, North America Lead with Asia-Pacific Rapidly Growing'], ['AMZN', '', '', \"Amazon (AMZN) Earnings Expected to Grow: What to Know Ahead of Next Week's Release\"], ['AMZN', '', '', 'Alphabet Boosted by AI, Cloud Demand as Spending Needs Jump'], ['AMZN', '', '', 'Roundhill Investments Launches Five Additional WeeklyPay ETFs'], ['AMZN', '', '', 'Apex Systems Announces Availability of Peak CX-AI in the New AWS Marketplace AI Agents and Tools Category'], ['AMZN', '', '', 'Only 34% of Americans Feel on Track for Retirement. Here Are 2 Stocks to Buy Now and Hold for Decades.'], ['AMZN', '', '', 'URLgenius Shatters Records: Prime Day Traffic Surges +493%, 1M+ Amazon Links Created'], ['AMZN', '', '', 'PawCo Turns 4 With Bold Expansion Plans To Lead The Future Of Dog Nutrition'], ['AMZN', '', '', 'Google Cloud Delivers Q2 Knockout, Sends Message To Amazon, Microsoft'], ['AMZN', '', '', \"If You'd Invested $10,000 in Amazon.com (AMZN) Stock 20 Years Ago, Here's How Much You'd Have Today\"], ['AMZN', '', '', '4 Artificial Intelligence (AI) Stocks That Could Soar in the Second Half of 2025'], ['AMZN', '', '', 'Intelligent Virtual Assistant Market Analysis Report 2025 | Forecasted to Hit $18.91 Billion by 2032 - Amazon and Baidu Lead Innovation with Next-Gen AI Assistants'], ['AMZN', '', '', 'North America Over the Top (OTT) Services Market Analysis Report 2025-2032 | Major Tech Giants Fuel Competition and Innovation in OTT Streaming'], ['AMZN', '', '', 'Amazon closes AI research facility in China'], ['AMZN', '', '', 'Amazon.com, Inc. (AMZN) Is \"An Overall Piece,\" Says Jim Cramer'], ['AMZN', '', '', \"Think It's Too Late to Buy Amazon? Here's the Biggest Reason Why There's Still Time.\"], ['AMZN', '', '', 'Online Advertising Global Strategic Business Report 2025-2030 | Digital Giants Such as Google, Meta, Amazon, and TikTok Reshape Ad Spending as Retail Media, CTV, and DOOH Lead Emerging Trends'], ['AMZN', '', '', \"Dan Ives Picks 5 Stocks For 2nd Half Of 2025: Nvidia, Palantir, Microsoft And More: 'Golden Age Of Tech Is Here With AI Revolution'\"], ['AMZN', '', '', 'How PepsiCo, Cadence Bank, And Skyworks Solutions Can Put Cash In Your Pocket'], ['AMZN', '', '', 'If You Invested $10K In Walmart Stock 10 Years Ago, How Much Would You Have Now?'], ['AMZN', '', '', 'Zacks Investment Ideas feature highlights: Range Nuclear Renaissance Index ETF, GE Vernova, Talen, Amazon and Rolls-Royce'], ['AMZN', '', '', 'Where Will Nvidia Stock Be in 10 Years?'], ['AMZN', '', '', 'Alphabet jumps as AI-driven spending fuels cloud revenue surge'], ['AMD', '', '', \"Here's How Nvidia and AMD Could Help This Super Semiconductor ETF Turn $500 Per Month Into $1 Million\"], ['AMD', '', '', '3 Millionaire-Maker Artificial Intelligence (AI) Stocks'], ['AMD', '', '', '3 Stocks Flying Under the S&P 500 Radar'], ['AMD', '', '', 'Intel Slides After New CEOs Comeback Plan Worries Investors'], ['AMD', '', '', 'Why Advanced Micro Devices (AMD) Shares Are Climbing Today'], ['AMD', '', '', \"Nvidia Stock Touches New Record High. What's Driving the Rally.\"], ['AMD', '', '', 'Nvidia Stock Rises. Heres What Can Restart the Rally.'], ['AMD', '', '', 'Nvidia and Broadcom Got Fantastic News From Google'], ['AMD', '', '', \"Nvidia Stock Slips. Here's What Can Restart the Rally.\"], ['AMD', '', '', '1 No-Brainer Artificial Intelligence (AI) Growth Stock to Buy Before Aug. 5'], ['AMD', '', '', 'Intel plans major job reductions to streamline operations'], ['AMD', '', '', 'Intel plans deep job cuts to streamline operations'], ['AMD', '', '', 'NVDA Stock Price Prediction: Where Nvidia Could Be by 2025, 2026, 2030'], ['AMD', '', '', 'Intel announces more job cuts and drops projects in Europe in plan to save the company'], ['AMD', '', '', \"Wall Street hovers near records in premarket trading as attention turns to next week's busy schedule\"], ['AMD', '', '', 'Lisa Su Says AI Chip Demand Could Top $500 Billion In Just A Few Years  Says US Must Rapidly Scale Manufacturing To Keep Up With Elon Musk, Sam Altman'], ['AMD', '', '', \"Intel's foundry future depends on securing a customer for next-gen chipmaking tech\"], ['AMD', '', '', 'Intel cuts back spending, workforce as struggling chip maker mounts comeback'], ['AMD', '', '', \"Elon Musk Says 'They Simply Don't' Have The Funding, Doubts Stargate AI\"], ['AMD', '', '', 'Intel stock rises on Q2 revenue beat, plans to cut 15% of workforce'], ['AMD', '', '', 'Intel shares rise on Q2 revenue beat, plans to cut 15% of workforce'], ['AMD', '', '', 'Intel beats on Q2 revenue, plans to cut 15% of workforce, cancels factory plans'], ['AMD', '', '', 'Intel beats on Q2 revenue beat, plans to cut 15% of workforce, cancels factory plans'], ['AMD', '', '', 'Top Stocks Powering the Fourth Industrial Revolution'], ['AMD', '', '', 'Intel is cutting more jobs as CEO Tan tries to fix manufacturing missteps'], ['AMD', '', '', 'Nvidia, AI Chipmakers Buoyed By Google Capex, Trump Plan'], ['AMD', '', '', 'Aligned Joins Forces with AMD and USC ISI to Power Next-Generation AI with MEGALODON Language Model'], ['AMD', '', '', 'DesignLinx Named AMD Embedded Premier Partner of the Year for the Americas'], ['AMD', '', '', 'BC-Most Active Stocks'], ['AMD', '', '', 'Intel beats shareholder lawsuit over $32 billion stock plunge'], ['AMD', '', '', 'Analyst Says Advanced Micro Devices (AMD) Can Get $25 Billion in GPU Sales With Just 5% Market Share'], ['AMD', '', '', 'Roundhill Investments Launches Five Additional WeeklyPay ETFs'], ['AMD', '', '', 'Intel to report Q2 earnings as Wall Street looks for signs of turnaround'], ['AMD', '', '', 'Nvidia, AMD CEOs Rally Behind President Trumps AI Action Plan'], ['AMD', '', '', 'Nvidia Stock Rises. It Got Good News from Google and Trump.'], ['AMD', '', '', 'Stock Market News for Jul 24, 2025'], ['AMD', '', '', 'Should You Buy Advanced Micro Devices (AMD) Stock Before Aug. 5?'], ['AMD', '', '', 'AMD CEO Lisa Su on the Cost of US Chips'], ['AMD', '', '', \"Elon Musk Says 'They Simply Don't' Have The Funding, Doubts Stargate AI\"], ['AMD', '', '', 'Time to Buy, Hold, or Sell Intel Stock as Q2 Earnings Approach?'], ['AMD', '', '', \"As sales slump, new Intel CEO's contract manufacturing plan to face investor scrutiny\"], ['AMD', '', '', '5 Stocks to Buy and Hold for the Rise of Physical AI'], ['AMD', '', '', 'Jim Cramer on Advanced Micro Devices: \"It\\'s Going in the Right Direction\"'], ['AMD', '', '', 'Nvidia Stock Is Rising. Heres What Will Drive Huge Spending on AI Chips.'], ['AMD', '', '', \"Shopify and Unity downgraded: Wall Street's top analyst calls\"], ['AMD', '', '', \"Analyst With $200 Advanced Micro Devices (AMD) Price Target Explains Why He's Bullish, Sees 'Big Reversal' in AI Revenue\"], ['AMD', '', '', \"Nvidia and AI Stock Investors Got Fantastic News from OpenAI and Elon Musk's xAI\"], ['AMD', '', '', 'MAINGEAR Drops Retro95: A 90s Throwback with 2025 Firepower'], ['AMD', '', '', 'Nvidia Stock Gains. How Elon Musk Is Lending a Helping Hand.'], ['AMD', '', '', \"Intel's chip contracting plan in spotlight on earnings day\"], ['AMD', '', '', \"Advanced Micro Devices (AMD) Stock Sinks As Market Gains: Here's Why\"], ['AMD', '', '', 'Intel Stock Is in a Catch-22 Scenario. How Should You Play INTC Here?'], ['AMD', '', '', 'General Motors and Coca-Cola earnings reveal an important reminder: Opening Bid top takeaways'], ['AMD', '', '', 'Why AMD Stock Is Sinking Today'], ['AMD', '', '', 'Nvidia move deals a major blow to AMD, Intel, and ARM'], ['AMD', '', '', 'Nvidia, Apple Partner Sets Up After 217% Surge; Custom Chip King Eyes AI Boom'], ['AMD', '', '', 'Chip stocks slide, NXP weak outlook, Coinbase inks PNC deal'], ['AMD', '', '', 'Dear Intel Stock Fans, Mark Your Calendars for July 24'], ['AMD', '', '', 'Heres why Intel is in a catch-22 situation: Loop Capital'], ['AMD', '', '', 'Cathie Wood Goes Bargain Hunting: 3 Stocks She Just Bought'], ['AMD', '', '', 'Nvidia Stock Slips. Here Are Reasons to Believe the AI Trend Will Keep Going, Analysts Say.'], ['AMD', '', '', 'Tech Stocks Are Sliding Ahead of Big Earnings'], ['AMD', '', '', \"Netflix downgraded, Intel initiated: Wall Street's top analyst calls\"], ['AMD', '', '', 'Advanced Micro Devices, Inc. (AMD) is Attracting Investor Attention: Here is What You Should Know'], ['AMD', '', '', \"Elon Musk Says 'They Simply Don't' Have The Funding, Doubts Stargate AI\"], ['AMD', '', '', 'Neoclouds to Generate Over US$65 Billion in GPU-as-a-Service Revenues by 2030, ABI Research Finds'], ['AMD', '', '', 'Nvidia Stock Slips. Reasons to Believe the AI Trend Will Keep Going.'], ['AMD', '', '', 'Streamline simulation: The benefits over real-world testing'], ['AMD', '', '', 'Nvidia and AMD Shares Jump With Sales Set to Resume to China. Is It Too Late to Buy the Stocks?'], ['AMD', '', '', \"Billionaire David Tepper Sold Appaloosa's Entire Stake in Advanced Micro Devices in Favor of 2 Stocks Whose Addressable Market Can 10X by 2033\"], ['AMD', '', '', 'Nvidia Chip Challenger FuriosaAI Scores First Major Customer LG'], ['AMD', '', '', 'Embedded LLM Launches First-of-its-Kind Monetisation Platform for AMD AI GPUs'], ['AMD', '', '', 'Taiwan Semi Joins the $1 Trillion Club. Whats Ahead for the Chip Maker?'], ['AMD', '', '', \"Taiwan Semi Joins the $1 Billion Club. What's Ahead for the Chip Maker?\"], ['AMD', '', '', 'What Intel and AMD Stock Investors Must Know Before Wednesday Afternoon'], ['AMD', '', '', 'Intel Gears Up to Report Q2 Earnings: Should You Buy the Stock?'], ['AMD', '', '', 'Nvidia and AMD Stock Investors Got Massive News From TSMC'], ['AMD', '', '', 'Nvidia Stock Gains. Why Big Tech Earnings Can Spark a Rally.'], ['AMD', '', '', \"Advanced Micro Devices, Inc. (AMD): I'm Not Betting Against It, Says Jim Cramer\"], ['AMD', '', '', 'Micron Stock Soars 36% YTD: Still a Buy or Time to Book Profits?'], ['AMD', '', '', 'Nvidia Stock Gains. Why Big Tech Earnings Can Keep the Rally Going.'], ['AMD', '', '', 'The Zacks Analyst Blog Highlights Taiwan Semiconductor Manufacturing, NVIDIA, Apple, Advanced Micro Devices, Broadcom and Intel'], ['AMD', '', '', '5 Red-Hot Growth Stocks to Buy in 2025'], ['AMD', '', '', 'China and Global Automotive Intelligent Cockpit SoC Research Report 2025 | Localization Rate Exceeds 10%, and AI-oriented Cockpit SoC Will Become the Mainstream in the Next 2-3 Years'], ['AMD', '', '', '2 Top AI Stocks to Buy With $1,000'], ['AMD', '', '', \"AMD's quiet move may shock gaming GPU market\"], ['AMD', '', '', 'Billionaire David Tepper Sold Nvidia and AMD and Is Piling Into This Specialized AI Chipmaker Instead'], ['AMD', '', '', 'This Artificial Intelligence (AI) Stock Looks Set for a Second-Half Comeback'], ['AMD', '', '', 'MarketBeat Week in Review - 07/14 - 07/18'], ['AMD', '', '', 'Got $3,000? 2 Artificial Intelligence (AI) Stocks to Buy and Hold for the Long Term'], ['AMD', '', '', '3 Reasons to Buy TSMC Stock Besides 61% Q2 Profit Surge'], ['AMD', '', '', 'Bank of America makes its boldest AMD call yet'], ['AMD', '', '', 'Stock Market Hits Highs On Nvidia AI Chip News, Taiwan Semi Earnings, Economic Data: Weekly Review'], ['AMD', '', '', 'At All-Time Highs, Should You Buy Taiwan Semi Stock Here or Wait for a Dip?'], ['AMD', '', '', 'Intel Could Face a Short Squeeze and More Calls on Semi Stocks From Citi'], ['AMD', '', '', 'Zacks Investment Ideas feature highlights: Microsoft, Nvidia, Alphabet, Arm Holdings and Advanced Micro Devices'], ['AMD', '', '', 'Intel shares could squeeze higher during earnings, analyst says'], ['AMD', '', '', '1 Artificial Intelligence (AI) Stock to Buy Before It Jumps 37%, According to a Wall Street Analyst'], ['AMD', '', '', 'AMD Gets Price Target Hike as Analysts See Data Centre Growth Accelerating'], ['AMD', '', '', 'ASML Stock Declines 9% After Q2 Earnings: Should You Hold or Fold?'], ['FB', '', '', \"Zuck Bucks Are Back -- And This Time They're Fueling Meta's AI Comeback\"], ['FB', '', '', 'WhatsApp Business Just Got Smarter -- Voice Calls and AI Recommendations Are Here'], ['FB', '', '', 'Google begins productive settlement talks with Trump lawyers, Atlantic says'], ['FB', '', '', 'Meta upgraded, PNC Financial downgraded: Wall Streets top analyst calls'], ['FB', '', '', 'The first big winners in the race to create AI superintelligence: the humans getting multi-million dollar pay packages'], ['FB', '', '', \"Meta's Momentum Hits a CapEx Hurdle\"], ['FB', '', '', 'Who Won and Lost in Trumps Tax Bill'], ['FB', '', '', 'Meta Offers to Buy Stake in Venture Funds Started by AI Hires Nat Friedman and Daniel Gross'], ['FB', '', '', '5 tech stock picks for the second half of 2025: Dan Ives'], ['FB', '', '', '3 Chip Stocks to Buyand 1 to Avoidas Semiconductors Soar'], ['FB', '', '', 'Meta Stock Gets Upgrade To Hold From One Of Last Bearish Analysts On Wall Street'], ['FB', '', '', 'Meta, FedEx, Oracle: Trending Tickers'], ['FB', '', '', \"Nvidia briefly on track to become world's most valuable company ever\"], ['FB', '', '', \"Meta upgraded, PNC Financial downgraded: Wall Street's top analyst calls\"], ['FB', '', '', 'Meta Platforms upgraded but Needham warns of capital waste and rising risks'], ['FB', '', '', 'Investors in Virtual Farming Are Raking In Real Money'], ['FB', '', '', 'Former OpenAI Board Member Questions Zuckerberg AI Hiring Spree'], ['FB', '', '', 'Meta (META) Hires More OpenAI Talent as It Ramps Up AI Research'], ['FB', '', '', 'Meta (META) Price Target Raised to $740 at Baird on Messaging Monetization Push'], ['FB', '', '', 'These Are The 5 Best Stocks To Buy Now Or Watch'], ['FB', '', '', 'Microsoft, Meta And 3 IPOs Lead This Barrage Of Breakout Stocks To Watch'], ['FB', '', '', 'Meta Stock Gets Price-Target Hike From Analyst. Why AI Could Give WhatsApp A Boost.'], ['FB', '', '', 'Paramount Settles Trumps 60 Minutes Suit for $16 Million'], ['FB', '', '', 'Apple, Alphabet and Tesla are Holding the S&P 500 Rally Back'], ['FB', '', '', 'Nvidia reclaimed market value pole position in June'], ['FB', '', '', 'Trumps Feuds With Musk, Powell Are Not Stock Market Movers. This Is.'], ['FB', '', '', 'Meta vs. Nvidia: How to play Mag 7 in the second half of 2025'], ['FB', '', '', 'Apple and Meta are proving it: AI is going corporate'], ['FB', '', '', 'Meta to Announce Second Quarter 2025 Results'], ['FB', '', '', 'Surge AI Eyes $15 Billion Valuation in First Fundraise'], ['FB', '', '', 'Meta Unifies Ads, Debuts Business AI on WhatsApp'], ['FB', '', '', 'X Will Deploy AI to Write Community Notes, Expand Fact-Checking'], ['FB', '', '', 'Senate Clears the Way for State AI Regulation. Meta, Amazon, and Alphabet Stock Fall.'], ['FB', '', '', \"How Meta's AI talent 'free agency' could reshape the tech race\"], ['FB', '', '', 'Trumps Tax Bill Passes US Senate as Republicans Notch Major Win'], ['FB', '', '', 'BofA highlights Metas early AI gains and revenue momentum, reiterates Buy rating'], ['FB', '', '', 'Meta Stock Looks to Build on Record High. A New AI Unit Could Hold the Key.'], ['FB', '', '', 'Netflixs Lofty Valuation Has Even Bullish Investors Nervous'], ['FB', '', '', 'Meta Shares Climb to Record High After Unveiling Superintelligence Labs'], ['FB', '', '', 'Stocks Rally as Robots Replace Humans. Why AI Job Losses Are Coming Fast.'], ['FB', '', '', \"OpenAI's Brain Gain for Meta Platforms Continues\"], ['FB', '', '', \"Inside Meta's Superintelligence Push\"], ['FB', '', '', 'Apple Weighs Using Anthropic or OpenAI to Power Siri in Major Reversal'], ['FB', '', '', \"Meta Stock Returns To Record High Amid 'Superintelligence' Push, OpenAI Talent Battle\"], ['FB', '', '', 'Zuckerberg Debuts Meta Superintelligence Group, More Hires'], ['FB', '', '', 'Meta forms AI superintelligence lab headed by Scale AIs Wang'], ['FB', '', '', \"Trump Forces Canada's Hand -- Digital Tax Killed to Save $440B Trade Lifeline\"], ['FB', '', '', 'Stocks to Watch: Meta, Tesla, Wells Fargo, Home Depot'], ['FB', '', '', \"Tech Industry Cheers Canada's Withdrawal of Digital Tax\"], ['FB', '', '', 'Microsoft claims AI diagnostic tool can outperform doctors'], ['FB', '', '', \"Meta's Next Big AI Move Turns Heads\"], ['FB', '', '', 'Chinese tech stocks soar in 2025 while US giants stall'], ['FB', '', '', 'Meta May Ditch Its Own AI Models After Llama 4 Stumbles'], ['FB', '', '', 'Trump Deals Poised to Fall Short of Sweeping Trade Reforms'], ['FB', '', '', \"Trump Tariffs and Inflation Could Rain on Stock Markets' Summer Surge. Here's Why and 5 More Things to Know Today.\"], ['FB', '', '', 'Trade Latest: Canada Pulls Digital Tax to Revive Talks With Trump'], ['FB', '', '', 'FOMO-Driven Call Buying Soars as Traders Chase S&P 500s Furious Run'], ['FB', '', '', 'Dealmakers Hit $1.8 Trillion as They Get Used to Trade Chaos'], ['FB', '', '', 'The tech rally is about a lot more than Magnificent 7 right now'], ['FB', '', '', 'Meta Faces Billion-Dollar Threat: EU Warns of Daily Fines Starting June 2025'], ['FB', '', '', 'Meta Mulls Swapping Out Llama'], ['FB', '', '', 'Trump Ends Canada Trade Talks in Retaliation Over Digital Tax'], ['FB', '', '', \"Nvidia Stock Keeps Rocking Record Highs. Here's Why.\"], ['FB', '', '', 'Apple and Meta Could Face Daily EU Fines Starting Next Week'], ['FB', '', '', 'Alphabet Stock Is Having a Bad Year. How AI Can Make or Break the Google Parent.'], ['FB', '', '', 'The biggest AI companies you should know'], ['FB', '', '', 'Piper makes Meta its top large-cap pick, lifts price view on AI-driven ad gains'], ['FB', '', '', 'After Reclaiming Worlds Most Valuable Company Crown, Nvidia Gilds the Tiara']]\n"
     ]
    }
   ],
   "source": [
    "parsed_data = []\n",
    "for ticker, news_table in news_tables.items():\n",
    "  for row in news_table.find_all('tr'):\n",
    "    title = row.a.get_text()\n",
    "    date_data = row.td.text.split(' ')\n",
    "\n",
    "    if len(date_data) == 1:\n",
    "      time = date_data[0]\n",
    "    else: \n",
    "      date = date_data[0]\n",
    "      time = date_data[1]\n",
    "    parsed_data.append([ticker, date, time, title])\n",
    "    # Clean up date and time values\n",
    "    if len(date_data) == 1:\n",
    "      date = ''\n",
    "      time = date_data[0].strip()\n",
    "    else:\n",
    "      date = date_data[0].strip()\n",
    "      time = date_data[1].strip()\n",
    "    # Update the last appended entry with cleaned date and time\n",
    "    parsed_data[-1][1] = date\n",
    "    parsed_data[-1][2] = time\n",
    "print(parsed_data)"
   ]
  },
  {
   "cell_type": "code",
   "execution_count": 22,
   "id": "c68a917a",
   "metadata": {},
   "outputs": [
    {
     "name": "stderr",
     "output_type": "stream",
     "text": [
      "[nltk_data] Downloading package vader_lexicon to\n",
      "[nltk_data]     C:\\Users\\ahmed\\AppData\\Roaming\\nltk_data...\n",
      "[nltk_data]   Package vader_lexicon is already up-to-date!\n"
     ]
    }
   ],
   "source": [
    "from urllib.request import urlopen, Request\n",
    "from bs4 import BeautifulSoup\n",
    "#Applying sentiment analysis\n",
    "import nltk\n",
    "nltk.download('vader_lexicon')\n",
    "from nltk.sentiment.vader import SentimentIntensityAnalyzer\n",
    "import pandas as pd\n",
    "\n"
   ]
  },
  {
   "cell_type": "code",
   "execution_count": 23,
   "id": "bc644097",
   "metadata": {},
   "outputs": [],
   "source": [
    "import matplotlib.pyplot as plt"
   ]
  },
  {
   "cell_type": "code",
   "execution_count": 27,
   "id": "13c88198",
   "metadata": {},
   "outputs": [
    {
     "ename": "TypeError",
     "evalue": "no numeric data to plot",
     "output_type": "error",
     "traceback": [
      "\u001b[31m---------------------------------------------------------------------------\u001b[39m",
      "\u001b[31mTypeError\u001b[39m                                 Traceback (most recent call last)",
      "\u001b[36mCell\u001b[39m\u001b[36m \u001b[39m\u001b[32mIn[27]\u001b[39m\u001b[32m, line 10\u001b[39m\n\u001b[32m      7\u001b[39m man_df = df.groupby([\u001b[33m'\u001b[39m\u001b[33mdate\u001b[39m\u001b[33m'\u001b[39m, \u001b[33m'\u001b[39m\u001b[33mticker\u001b[39m\u001b[33m'\u001b[39m])[\u001b[33m'\u001b[39m\u001b[33mcompound\u001b[39m\u001b[33m'\u001b[39m].mean()\n\u001b[32m      8\u001b[39m mean_df = man_df.unstack(level=\u001b[32m1\u001b[39m)  \u001b[38;5;66;03m# Tickers as columns\u001b[39;00m\n\u001b[32m---> \u001b[39m\u001b[32m10\u001b[39m \u001b[43mmean_df\u001b[49m\u001b[43m.\u001b[49m\u001b[43mplot\u001b[49m\u001b[43m(\u001b[49m\u001b[43mkind\u001b[49m\u001b[43m=\u001b[49m\u001b[33;43m'\u001b[39;49m\u001b[33;43mbar\u001b[39;49m\u001b[33;43m'\u001b[39;49m\u001b[43m,\u001b[49m\u001b[43m \u001b[49m\u001b[43mfigsize\u001b[49m\u001b[43m=\u001b[49m\u001b[43m(\u001b[49m\u001b[32;43m10\u001b[39;49m\u001b[43m,\u001b[49m\u001b[43m \u001b[49m\u001b[32;43m8\u001b[39;49m\u001b[43m)\u001b[49m\u001b[43m)\u001b[49m\n\u001b[32m     11\u001b[39m plt.show()\n\u001b[32m     13\u001b[39m \u001b[38;5;28mprint\u001b[39m(mean_df)\n",
      "\u001b[36mFile \u001b[39m\u001b[32mc:\\Users\\ahmed\\Desktop\\AISB\\.venv\\Lib\\site-packages\\pandas\\plotting\\_core.py:1030\u001b[39m, in \u001b[36mPlotAccessor.__call__\u001b[39m\u001b[34m(self, *args, **kwargs)\u001b[39m\n\u001b[32m   1027\u001b[39m             label_name = label_kw \u001b[38;5;129;01mor\u001b[39;00m data.columns\n\u001b[32m   1028\u001b[39m             data.columns = label_name\n\u001b[32m-> \u001b[39m\u001b[32m1030\u001b[39m \u001b[38;5;28;01mreturn\u001b[39;00m \u001b[43mplot_backend\u001b[49m\u001b[43m.\u001b[49m\u001b[43mplot\u001b[49m\u001b[43m(\u001b[49m\u001b[43mdata\u001b[49m\u001b[43m,\u001b[49m\u001b[43m \u001b[49m\u001b[43mkind\u001b[49m\u001b[43m=\u001b[49m\u001b[43mkind\u001b[49m\u001b[43m,\u001b[49m\u001b[43m \u001b[49m\u001b[43m*\u001b[49m\u001b[43m*\u001b[49m\u001b[43mkwargs\u001b[49m\u001b[43m)\u001b[49m\n",
      "\u001b[36mFile \u001b[39m\u001b[32mc:\\Users\\ahmed\\Desktop\\AISB\\.venv\\Lib\\site-packages\\pandas\\plotting\\_matplotlib\\__init__.py:71\u001b[39m, in \u001b[36mplot\u001b[39m\u001b[34m(data, kind, **kwargs)\u001b[39m\n\u001b[32m     69\u001b[39m         kwargs[\u001b[33m\"\u001b[39m\u001b[33max\u001b[39m\u001b[33m\"\u001b[39m] = \u001b[38;5;28mgetattr\u001b[39m(ax, \u001b[33m\"\u001b[39m\u001b[33mleft_ax\u001b[39m\u001b[33m\"\u001b[39m, ax)\n\u001b[32m     70\u001b[39m plot_obj = PLOT_CLASSES[kind](data, **kwargs)\n\u001b[32m---> \u001b[39m\u001b[32m71\u001b[39m \u001b[43mplot_obj\u001b[49m\u001b[43m.\u001b[49m\u001b[43mgenerate\u001b[49m\u001b[43m(\u001b[49m\u001b[43m)\u001b[49m\n\u001b[32m     72\u001b[39m plot_obj.draw()\n\u001b[32m     73\u001b[39m \u001b[38;5;28;01mreturn\u001b[39;00m plot_obj.result\n",
      "\u001b[36mFile \u001b[39m\u001b[32mc:\\Users\\ahmed\\Desktop\\AISB\\.venv\\Lib\\site-packages\\pandas\\plotting\\_matplotlib\\core.py:499\u001b[39m, in \u001b[36mMPLPlot.generate\u001b[39m\u001b[34m(self)\u001b[39m\n\u001b[32m    497\u001b[39m \u001b[38;5;129m@final\u001b[39m\n\u001b[32m    498\u001b[39m \u001b[38;5;28;01mdef\u001b[39;00m\u001b[38;5;250m \u001b[39m\u001b[34mgenerate\u001b[39m(\u001b[38;5;28mself\u001b[39m) -> \u001b[38;5;28;01mNone\u001b[39;00m:\n\u001b[32m--> \u001b[39m\u001b[32m499\u001b[39m     \u001b[38;5;28;43mself\u001b[39;49m\u001b[43m.\u001b[49m\u001b[43m_compute_plot_data\u001b[49m\u001b[43m(\u001b[49m\u001b[43m)\u001b[49m\n\u001b[32m    500\u001b[39m     fig = \u001b[38;5;28mself\u001b[39m.fig\n\u001b[32m    501\u001b[39m     \u001b[38;5;28mself\u001b[39m._make_plot(fig)\n",
      "\u001b[36mFile \u001b[39m\u001b[32mc:\\Users\\ahmed\\Desktop\\AISB\\.venv\\Lib\\site-packages\\pandas\\plotting\\_matplotlib\\core.py:698\u001b[39m, in \u001b[36mMPLPlot._compute_plot_data\u001b[39m\u001b[34m(self)\u001b[39m\n\u001b[32m    696\u001b[39m \u001b[38;5;66;03m# no non-numeric frames or series allowed\u001b[39;00m\n\u001b[32m    697\u001b[39m \u001b[38;5;28;01mif\u001b[39;00m is_empty:\n\u001b[32m--> \u001b[39m\u001b[32m698\u001b[39m     \u001b[38;5;28;01mraise\u001b[39;00m \u001b[38;5;167;01mTypeError\u001b[39;00m(\u001b[33m\"\u001b[39m\u001b[33mno numeric data to plot\u001b[39m\u001b[33m\"\u001b[39m)\n\u001b[32m    700\u001b[39m \u001b[38;5;28mself\u001b[39m.data = numeric_data.apply(\u001b[38;5;28mtype\u001b[39m(\u001b[38;5;28mself\u001b[39m)._convert_to_ndarray)\n",
      "\u001b[31mTypeError\u001b[39m: no numeric data to plot"
     ]
    }
   ],
   "source": [
    "df = pd.DataFrame(parsed_data, columns=['ticker', 'date', 'time', 'title'])\n",
    "vader = SentimentIntensityAnalyzer()\n",
    "df['compound'] = df['title'].apply(lambda x: vader.polarity_scores(x)['compound'])\n",
    "df['date'] = pd.to_datetime(df.date).dt.date\n",
    "\n",
    "# Group and average only the 'compound' column\n",
    "man_df = df.groupby(['date', 'ticker'])['compound'].mean()\n",
    "mean_df = man_df.unstack(level=1)  # Tickers as columns\n",
    "\n",
    "mean_df.plot(kind='bar', figsize=(10, 8))\n",
    "plt.show()\n",
    "\n",
    "print(mean_df)"
   ]
  }
 ],
 "metadata": {
  "kernelspec": {
   "display_name": ".venv",
   "language": "python",
   "name": "python3"
  },
  "language_info": {
   "codemirror_mode": {
    "name": "ipython",
    "version": 3
   },
   "file_extension": ".py",
   "mimetype": "text/x-python",
   "name": "python",
   "nbconvert_exporter": "python",
   "pygments_lexer": "ipython3",
   "version": "3.13.5"
  }
 },
 "nbformat": 4,
 "nbformat_minor": 5
}
